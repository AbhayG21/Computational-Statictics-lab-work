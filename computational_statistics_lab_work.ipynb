{
 "cells": [
  {
   "cell_type": "markdown",
   "metadata": {},
   "source": [
    "# LAB 1"
   ]
  },
  {
   "cell_type": "markdown",
   "metadata": {},
   "source": [
    "<!-- 1.\tCreate 2 variables, ‘A’ and ‘B’, perform the 4 operations on them.\n",
    "2.\tCreate 2 array, ‘A’ and ‘B’, perform the 4 operations on each of their elements.\n",
    "3.\tAdd the 2 arrays from previous question, with the single array left, find its sum, mean and variance.\n",
    "4.\tCreate a file with 2 variables ‘x’ and ‘y’, using file handling operations. Find sum of all x^2 variables and y^2 variables.\n",
    " -->"
   ]
  },
  {
   "cell_type": "markdown",
   "metadata": {},
   "source": [
    "1.\tCreate 2 variables, ‘A’ and ‘B’, perform the 4 operations on them.\n",
    "2.\tCreate 2 array, ‘A’ and ‘B’, perform the 4 operations on each of their elements.\n",
    "3.\tAdd the 2 arrays from previous question, with the single array left, find its sum, mean and variance.\n",
    "4.\tCreate a file with 2 variables ‘x’ and ‘y’, using file handling operations. Find sum of all x^2 variables and y^2 variables.\n"
   ]
  },
  {
   "cell_type": "code",
   "execution_count": null,
   "metadata": {},
   "outputs": [],
   "source": []
  },
  {
   "cell_type": "code",
   "execution_count": null,
   "metadata": {},
   "outputs": [],
   "source": []
  },
  {
   "cell_type": "markdown",
   "metadata": {},
   "source": [
    "# LAB 2"
   ]
  },
  {
   "cell_type": "markdown",
   "metadata": {},
   "source": [
    "## MINI CALCULATOR USING CLASSES IN PYTHON"
   ]
  },
  {
   "cell_type": "code",
   "execution_count": null,
   "metadata": {},
   "outputs": [],
   "source": [
    "\n",
    "class mini_cal:\n",
    "    def __init__(self,a,b):\n",
    "        self.a = a\n",
    "        self.b = b\n",
    "        self.add = a + b\n",
    "        self.sub = a - b\n",
    "        self.multi = a * b\n",
    "        self.div = a / b\n",
    "        \n",
    "    def addition(self):\n",
    "        ## This method is used to find the sum of two numbers\n",
    "        print(\"\\nThe sum of two numbers is : {}\\n\".format(self.add))\n",
    "    \n",
    "    def subtract(self):\n",
    "        ## This method is used to find the difference of two numbers\n",
    "        print(\"The difference of two numbers is : {}\\n\".format(self.sub))\n",
    "        \n",
    "    def multiply(self):\n",
    "        ## This method is used to multiply two numbers\n",
    "        print(\"the product of two numbers is : {}\\n\".format(self.multi))\n",
    "    \n",
    "    def division(self):\n",
    "        ## This method is used to divide two numbers\n",
    "        print(\"The division of two numbers is : {}\\n\".format(self.div))\n",
    "    "
   ]
  },
  {
   "cell_type": "code",
   "execution_count": null,
   "metadata": {},
   "outputs": [],
   "source": [
    "# print(\"The following are the simple calculations on two numbers :\")\n",
    "a = int(input(\"Enter the first number : \"))\n",
    "b = int(input(\"Enter the second number : \"))\n",
    "cal = mini_cal(a, b)\n",
    "\n",
    "for i in range(1,5):\n",
    "    choice = int(input(\"Enter the choice from 1 to 4 :\"))\n",
    "    \n",
    "    if(choice == 1):\n",
    "        cal.addition()\n",
    "        \n",
    "    if(choice == 2):\n",
    "        cal.subtract()\n",
    "        \n",
    "    if(choice == 3):\n",
    "        cal.multiply()\n",
    "        \n",
    "    if(choice == 4):\n",
    "        cal.division()\n",
    "    else:\n",
    "        pass"
   ]
  },
  {
   "cell_type": "code",
   "execution_count": null,
   "metadata": {},
   "outputs": [],
   "source": []
  },
  {
   "cell_type": "code",
   "execution_count": null,
   "metadata": {},
   "outputs": [],
   "source": []
  },
  {
   "cell_type": "markdown",
   "metadata": {},
   "source": [
    "# LAB 3\n"
   ]
  },
  {
   "cell_type": "markdown",
   "metadata": {},
   "source": [
    "<img src = \"lab3 assignment.jpeg\"/>"
   ]
  },
  {
   "cell_type": "markdown",
   "metadata": {},
   "source": [
    "#### IMPORTING THE LIBRARIES REQUIRED"
   ]
  },
  {
   "cell_type": "code",
   "execution_count": 5,
   "metadata": {},
   "outputs": [],
   "source": [
    "import numpy as np\n",
    "import matplotlib.pyplot as plt\n",
    "import seaborn as sns"
   ]
  },
  {
   "cell_type": "markdown",
   "metadata": {},
   "source": [
    "# CREATING THE RANDOM ARRAY"
   ]
  },
  {
   "cell_type": "code",
   "execution_count": 6,
   "metadata": {},
   "outputs": [],
   "source": [
    "# creating a random array of size 64*64 in the range 0-255 (inclusive)\n",
    "\n",
    "def create_array():\n",
    "    \"\"\"\n",
    "    This function will create an array of user defined number of rows and columns.\n",
    "    \"\"\"\n",
    "    \n",
    "    np.random.seed(42)\n",
    "    rows = int(input(\"Enter the number of rows: \"))\n",
    "    columns = int(input(\"Enter the number of columns: \"))\n",
    "    upper_lim = int(input(\"Enter the upper limit of the array: \"))\n",
    "    \n",
    "    array = np.random.randint(0,upper_lim+1, size=(rows,columns))\n",
    "    \n",
    "    print(array)\n",
    "    print(type(array))\n",
    "    print(array.shape)\n",
    "    print(array.size)\n",
    "    print(array.ndim)\n",
    "    \n",
    "    return array"
   ]
  },
  {
   "cell_type": "markdown",
   "metadata": {},
   "source": [
    "# SLICING THE ARRAY AND CREATING COLUMN VECTORS"
   ]
  },
  {
   "cell_type": "code",
   "execution_count": 7,
   "metadata": {},
   "outputs": [],
   "source": [
    "def split_the_list(array):\n",
    "    \"\"\"\n",
    "    This function will split the array into its column vectors and return a list where each element of the list is the column vector of the array.\n",
    "    \"\"\"\n",
    "    array_split = []\n",
    "    for i in range(0,array.shape[1]):\n",
    "        vector = array[:,[i]]\n",
    "        array_split.append(vector)\n",
    "    return array_split"
   ]
  },
  {
   "cell_type": "markdown",
   "metadata": {},
   "source": [
    "# MEAN"
   ]
  },
  {
   "cell_type": "code",
   "execution_count": 8,
   "metadata": {},
   "outputs": [],
   "source": [
    "def mean(array_split):\n",
    "    \n",
    "    \"\"\"\n",
    "    This function finds the mean of each vector in our list and returns a list containing the mean of individual vectors in our list.\n",
    "    \"\"\"\n",
    "    \n",
    "    #creating an empty list\n",
    "    mean_list = []\n",
    "    \n",
    "    length_of_list   = len(array_split)\n",
    "    length_of_vector = len(array_split[0])\n",
    "    \n",
    "    for i in range(0,length_of_list):\n",
    "        SUM = 0\n",
    "        vector = array_split[i]\n",
    "        \n",
    "        for j in range(0,length_of_vector):\n",
    "            SUM = SUM + vector[j]\n",
    "            \n",
    "        mean = float(SUM/length_of_vector)\n",
    "        mean_list.append(mean)\n",
    "        \n",
    "            \n",
    "    return mean_list\n",
    "    "
   ]
  },
  {
   "cell_type": "markdown",
   "metadata": {},
   "source": [
    "# L2-NORM"
   ]
  },
  {
   "cell_type": "code",
   "execution_count": 9,
   "metadata": {},
   "outputs": [],
   "source": [
    "# L2 Norm is just the lenth of the vector in the Euclidean space.\n",
    "\n",
    "# Now let's write a function to find the L2 norm of the individual vectors in the list\n",
    "import math\n",
    "def L2_norm(array_split):\n",
    "    \"\"\"\n",
    "    This function returns the distance between two vectors in the euclidean space.\n",
    "    \"\"\"\n",
    "    print(\"Let's find L2-norm between two variables.\\n\")\n",
    "    v1 = int(input(\"Enter the first choice from 0-63: \"))\n",
    "    v2 = int(input(\"Enter the second choice from 0-63: \"))\n",
    "    \n",
    "    vector1 = array_split[v1]\n",
    "    vector2 = array_split[v2]\n",
    "    \n",
    "    vector3 = vector1 - vector2\n",
    "    \n",
    "    SUM = 0\n",
    "    for i in range(0,vector3.shape[0]):\n",
    "        square = vector3[i]**2\n",
    "        SUM = SUM + square\n",
    "    \n",
    "    l2_norm = SUM ** 0.5\n",
    "    return float(l2_norm)"
   ]
  },
  {
   "cell_type": "markdown",
   "metadata": {},
   "source": [
    "# VARIANCE"
   ]
  },
  {
   "cell_type": "code",
   "execution_count": 10,
   "metadata": {},
   "outputs": [],
   "source": [
    "def variance_without_using_inbuilt_function(array_split,mean_list):\n",
    "    \"\"\"\n",
    "    Calculates the variance\n",
    "    \"\"\"\n",
    "    \n",
    "    variance_without_using_inbuilt_function = []\n",
    "    length_of_list = len(array_split)\n",
    "    \n",
    "    for i in range(0,length_of_list):\n",
    "        \n",
    "        vector2 = array_split[i]\n",
    "        \n",
    "        vector2_mean = mean_list[i]\n",
    "        \n",
    "        vector2_minus_mean = vector2 - vector2_mean\n",
    "        \n",
    "        vector2_minus_mean_abs = np.abs(vector2_minus_mean)\n",
    "\n",
    "        vector2_minus_mean_abs_sqaure = vector2_minus_mean_abs **2\n",
    "        \n",
    "        SUM = 0\n",
    "        for j in range(0,vector2_minus_mean_abs_sqaure.shape[0]):\n",
    "            SUM = SUM + vector2_minus_mean_abs_sqaure[j]\n",
    "        vector2_minus_mean_abs_sqaure_mean = float(SUM/vector2_minus_mean_abs_sqaure.shape[0])\n",
    " \n",
    "        variance_without_using_inbuilt_function.append(vector2_minus_mean_abs_sqaure_mean)\n",
    "            \n",
    "    \n",
    "    return variance_without_using_inbuilt_function"
   ]
  },
  {
   "cell_type": "markdown",
   "metadata": {},
   "source": [
    "# MULTIPLY ANY TWO VECTORS"
   ]
  },
  {
   "cell_type": "code",
   "execution_count": 11,
   "metadata": {},
   "outputs": [],
   "source": [
    "def multiply_any_two_vectors(array_split):\n",
    "    \"\"\"\n",
    "    This function will take the input as any two vectors and print their product.\n",
    "    \"\"\"\n",
    "    print(\"\\nLet's multiply two vectors.\\n\")\n",
    "    v1 = int(input(\"Enter the first choice from 0-63: \"))\n",
    "    v2 = int(input(\"Enter the second choice from 0-63: \"))\n",
    "    \n",
    "    vector1 = array_split[v1] #column major \n",
    "    vector2 = array_split[v2] #column major \n",
    "\n",
    "    while(True):\n",
    "        choice = int(input(\"Choose:\\n1 for inner product\\n2 for outer product\\n3 for exit\\n\"))\n",
    "    \n",
    "        if(choice == 1):\n",
    "            \"\"\"\n",
    "            Inner Product\n",
    "            \"\"\"\n",
    "            \n",
    "            temp = vector1 * vector2\n",
    "            SUM = 0\n",
    "            for i in range(0,temp.shape[0]):\n",
    "                SUM = SUM + temp[i]\n",
    "            print(SUM)\n",
    "            print(\"\\n\")\n",
    "            \n",
    "        elif(choice == 2):\n",
    "            \"\"\"\n",
    "            Outer Product\n",
    "            \"\"\"\n",
    "            temp2 = np.ones(shape=(vector1.shape[0],vector2.shape[0]))\n",
    "            \n",
    "            for i in range(0,vector1.shape[0]):\n",
    "                for j in range(0, vector2.shape[0]):\n",
    "                    vector3 = vector1[i]*vector2[j]\n",
    "                    temp2[i,j] = vector3\n",
    "            print(temp2) \n",
    "            print(temp2.shape)\n",
    "            print(\"\\n\") \n",
    "            \n",
    "            \n",
    "            temp3 = np.ones(shape=(vector2.shape[0],vector1.shape[0]))\n",
    "            \n",
    "            for i in range(0,vector2.shape[0]):\n",
    "                for j in range(0, vector1.shape[0]):\n",
    "                    vector3 = vector2[i]*vector1[j]\n",
    "                    temp3[i,j] = vector3\n",
    "            print(temp3) \n",
    "            print(temp3.shape)\n",
    "            print(\"\\n\") \n",
    "        \n",
    "        \n",
    "        elif(choice == 3):\n",
    "            break\n",
    "        else:\n",
    "            print(\"\\nPLEASE CHOOSE A NUMBER FROM 1 T0 3\")\n",
    "                "
   ]
  },
  {
   "cell_type": "markdown",
   "metadata": {},
   "source": [
    "# COVARIANCE"
   ]
  },
  {
   "cell_type": "code",
   "execution_count": 12,
   "metadata": {},
   "outputs": [],
   "source": [
    "def covariance_1(A1_split, mean_list):\n",
    "    \"\"\"\n",
    "    This function finds the covarince between two column vectors os the matrix\n",
    "    \"\"\"\n",
    "    \n",
    "    print(\"Let's find the covariance of two numbers\")\n",
    "    v1 = int(input(\"Enter the first choice from 0-63: \"))\n",
    "    v2 = int(input(\"Enter the second choice from 0-63: \"))\n",
    "\n",
    "    vector1 = A1_split[v1]\n",
    "    \n",
    "    vector2 = A1_split[v2]\n",
    "    \n",
    "    # While finding the covariance we find the expectation of the vector but in this case, each element of the vector has equal propability of occurance. so mean = expectation.\n",
    "    vector1_mean = mean_list[v1]\n",
    "    vector2_mean = mean_list[v2]\n",
    "    \n",
    "    vector1_minus_mean = vector1 - vector1_mean\n",
    "    vector2_minus_mean = vector2 - vector2_mean\n",
    "    \n",
    "    vector3 = vector1_minus_mean * vector2_minus_mean\n",
    "    \n",
    "    length = vector3.shape[0]\n",
    "    SUM = 0\n",
    "    for i in range(0,length):\n",
    "        SUM = SUM + vector3[i]\n",
    "    Covariance = float(SUM/length)\n",
    "        \n",
    "    return Covariance\n",
    "    "
   ]
  },
  {
   "cell_type": "code",
   "execution_count": 13,
   "metadata": {},
   "outputs": [],
   "source": [
    "def covariance_2(array_split, mean_list):\n",
    "    \"\"\"\n",
    "    This function finds the covarince between two column vectors of the matrix\n",
    "    \"\"\"\n",
    "    \n",
    "    v1 = int(input(\"Enter the first choice from 0-63: \"))\n",
    "    v2 = int(input(\"Enter the second choice from 0-63: \"))\n",
    "\n",
    "    vector1 = array_split[v1]\n",
    "    vector2 = array_split[v2]\n",
    "    \n",
    "    vector1_mean = mean_list[v1]\n",
    "    vector2_mean = mean_list[v2]\n",
    "    \n",
    "    vector3 = vector1 * vector2\n",
    "    \n",
    "    SUM = 0\n",
    "    for i in range(0,vector3.shape[0]):\n",
    "        SUM = SUM + vector3[i]\n",
    "    vector3_mean = SUM/vector3.shape[0]\n",
    "    \n",
    "    vector4 = vector1_mean * vector2_mean\n",
    "    \n",
    "    covariance = vector3_mean - vector4\n",
    "        \n",
    "    return covariance, v1, v2\n",
    "    "
   ]
  },
  {
   "cell_type": "markdown",
   "metadata": {},
   "source": [
    "# CORRELATION CO-EFFECIENT"
   ]
  },
  {
   "cell_type": "code",
   "execution_count": 14,
   "metadata": {},
   "outputs": [],
   "source": [
    "def correlation_coeffecient(array_split, mean_list, variance_list):\n",
    "    \"\"\"\n",
    "    This function will return the correlation coeffecient between two variables.\n",
    "    \"\"\"\n",
    "    \n",
    "    print(\"Let's find Correlation between two vectors.\\n\")\n",
    "    covariance, v1, v2 = covariance_2(array_split,mean_list)\n",
    "    std1 = variance_list[v1] ** 0.5 \n",
    "    std2 = variance_list[v2] ** 0.5\n",
    "    \n",
    "    correlation = covariance/(std1 * std2)\n",
    "    \n",
    "    vector1 = np.reshape(array_split[v1], newshape=(array_split[v1].shape[0]))\n",
    "    vector2 = np.reshape(array_split[v2], newshape=(array_split[v2].shape[0]))\n",
    "    \n",
    "    print(np.corrcoef(vector1, vector2))\n",
    "    return correlation"
   ]
  },
  {
   "cell_type": "markdown",
   "metadata": {},
   "source": [
    "# GRAPH"
   ]
  },
  {
   "cell_type": "code",
   "execution_count": 15,
   "metadata": {},
   "outputs": [],
   "source": [
    "def histogram_and_pdf(array):\n",
    "    plt.figure(figsize=(10,5))\n",
    "    sns.distplot(array)\n",
    "    "
   ]
  },
  {
   "cell_type": "code",
   "execution_count": 16,
   "metadata": {},
   "outputs": [],
   "source": [
    "def scatterplot(array):\n",
    "    \"\"\"\n",
    "    This fucntion will print the scatter plot.\n",
    "    \"\"\"\n",
    "    rows = array.shape[0]\n",
    "    columns = array.shape[1]\n",
    "    \n",
    "    column_major_array = array.reshape((rows*columns),1)\n",
    "    \n",
    "    range_of_array = list(range(0,column_major_array.shape[0]))\n",
    "    \n",
    "    fig, ax1 = plt.subplots(nrows=1,\n",
    "                               ncols=1,\n",
    "                               figsize=(14,3))\n",
    "    ax1.scatter(range_of_array, column_major_array, marker='.', color = 'orange')"
   ]
  },
  {
   "cell_type": "markdown",
   "metadata": {},
   "source": [
    "### MAIN FUNCTION"
   ]
  },
  {
   "cell_type": "code",
   "execution_count": 17,
   "metadata": {},
   "outputs": [],
   "source": [
    "def main():\n",
    "    \"\"\"\n",
    "    Main function.\n",
    "    \"\"\"\n",
    "    print(\"To begin with, Let's first create an array.\")\n",
    "    A1 = create_array()\n",
    "    \n",
    "    (\"Now array columns will be extracted and stored in the list!\")\n",
    "    A1_split = split_the_list(A1)\n",
    "    \n",
    "    test = True\n",
    "    while(test):\n",
    "        choice = int(input(\"\\nPlease enter your choice:\\n1 for Mean of a vector\\n2 for Variance of a vector\\n3 for Covariance between two vectors\\n4 for Correlation between two vecotrs\\n5 for L2-norm\\n6 to Multiply two vectors\\n7 Scatter Plot\\n8 Histogram and Pdf\\n9 to EXIT\\t\"))\n",
    "        \n",
    "        if(choice == 1):\n",
    "            A1_mean_list = mean(A1_split)\n",
    "            option = int(input(\"\\nEnter the vector number from 0-64 for whch you want ot find the mean:\\t\"))\n",
    "            print(A1_mean_list[option])\n",
    "            \n",
    "        elif(choice == 2):\n",
    "            A1_var_list = variance_without_using_inbuilt_function(A1_split,A1_mean_list)\n",
    "            option = int(input(\"\\nEnter the vector number from 0-63 for whch you want ot find the variance:\\t\"))\n",
    "            print(A1_var_list[option])\n",
    "            \n",
    "        elif(choice == 3):\n",
    "            A1_covar = covariance_1(A1_split,A1_mean_list)\n",
    "            print(A1_covar)\n",
    "            \n",
    "        elif(choice == 4):\n",
    "            A1_corr = correlation_coeffecient(A1_split, A1_mean_list, A1_var_list)\n",
    "            print(A1_corr)\n",
    "            \n",
    "        elif(choice == 5):\n",
    "            A1_l2_norm = L2_norm(A1_split)\n",
    "            print(A1_l2_norm)\n",
    "            \n",
    "        elif(choice == 6):\n",
    "            multiply_any_two_vectors(A1_split)\n",
    "            \n",
    "        elif(choice == 7):\n",
    "            scatterplot(A1)\n",
    "        \n",
    "        elif(choice == 8):\n",
    "            histogram_and_pdf(A1)\n",
    "            \n",
    "        elif(choice == 9):\n",
    "            break\n",
    "        else:\n",
    "            print(\"\\nPLEASE CHOOSE A NUMBER FROM 0-9\\n\")\n",
    "    \n",
    "    return A1"
   ]
  },
  {
   "cell_type": "code",
   "execution_count": 18,
   "metadata": {},
   "outputs": [
    {
     "name": "stdout",
     "output_type": "stream",
     "text": [
      "To begin with, Let's first create an array.\n",
      "Enter the number of rows: 64\n",
      "Enter the number of columns: 64\n",
      "Enter the upper limit of the array: 255\n",
      "[[102 179  92 ... 134  20  72]\n",
      " [166  17 131 ...  23 153 216]\n",
      " [251 187 123 ... 141 102  26]\n",
      " ...\n",
      " [250 219 250 ... 191   4  99]\n",
      " [ 69  89   3 ... 177 160 218]\n",
      " [  6  69 126 ... 166  85 176]]\n",
      "<class 'numpy.ndarray'>\n",
      "(64, 64)\n",
      "4096\n",
      "2\n",
      "\n",
      "Please enter your choice:\n",
      "1 for Mean of a vector\n",
      "2 for Variance of a vector\n",
      "3 for Covariance between two vectors\n",
      "4 for Correlation between two vecotrs\n",
      "5 for L2-norm\n",
      "6 to Multiply two vectors\n",
      "7 Scatter Plot\n",
      "8 Histogram and Pdf\n",
      "9 to EXIT\t8\n",
      "\n",
      "Please enter your choice:\n",
      "1 for Mean of a vector\n",
      "2 for Variance of a vector\n",
      "3 for Covariance between two vectors\n",
      "4 for Correlation between two vecotrs\n",
      "5 for L2-norm\n",
      "6 to Multiply two vectors\n",
      "7 Scatter Plot\n",
      "8 Histogram and Pdf\n",
      "9 to EXIT\t9\n"
     ]
    },
    {
     "data": {
      "image/png": "[encoded data removed]",
      "text/plain": [
       "<Figure size 720x360 with 1 Axes>"
      ]
     },
     "metadata": {
      "needs_background": "light"
     },
     "output_type": "display_data"
    }
   ],
   "source": [
    "if __name__==\"__main__\": \n",
    "    A1 = main() "
   ]
  },
  {
   "cell_type": "code",
   "execution_count": null,
   "metadata": {},
   "outputs": [],
   "source": []
  }
 ],
 "metadata": {
  "kernelspec": {
   "display_name": "Python 3",
   "language": "python",
   "name": "python3"
  },
  "language_info": {
   "codemirror_mode": {
    "name": "ipython",
    "version": 3
   },
   "file_extension": ".py",
   "mimetype": "text/x-python",
   "name": "python",
   "nbconvert_exporter": "python",
   "pygments_lexer": "ipython3",
   "version": "3.7.7"
  }
 },
 "nbformat": 4,
 "nbformat_minor": 4
}
