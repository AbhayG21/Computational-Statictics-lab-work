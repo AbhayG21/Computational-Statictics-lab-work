{
 "cells": [
  {
   "cell_type": "code",
   "execution_count": 165,
   "metadata": {},
   "outputs": [],
   "source": [
    "import numpy as np\n",
    "import matplotlib.pyplot as plt\n",
    "from PIL import Image,ImageOps\n",
    "\n",
    "#READING IMAGE\n",
    "image = Image.open(\"Computational Statictics lab work/lab3 assignment.jpeg\")\n",
    "\n",
    "#GRAY SCALING \n",
    "gray = ImageOps.grayscale(image)\n",
    "\n",
    "#Converting gray scale image in 64X64 pixel\n",
    "im = gray.resize((64,64))"
   ]
  },
  {
   "cell_type": "code",
   "execution_count": 166,
   "metadata": {},
   "outputs": [
    {
     "data": {
      "image/png": "[encoded data removed]",
      "text/plain": [
       "<PIL.Image.Image image mode=L size=64x64 at 0x2496C90A808>"
      ]
     },
     "execution_count": 166,
     "metadata": {},
     "output_type": "execute_result"
    }
   ],
   "source": [
    "im"
   ]
  },
  {
   "cell_type": "code",
   "execution_count": 167,
   "metadata": {},
   "outputs": [
    {
     "name": "stdout",
     "output_type": "stream",
     "text": [
      "<class 'numpy.ndarray'>\n",
      "[[40 16  1 ...  8  9  9]\n",
      " [41 18  0 ...  8  9  9]\n",
      " [42 19  0 ...  8  9  9]\n",
      " ...\n",
      " [ 3  3  3 ...  7  7  7]\n",
      " [ 4  3  3 ...  7  7  7]\n",
      " [ 3  2  3 ...  7  7  8]]\n",
      "(64, 64)\n",
      "uint8\n"
     ]
    }
   ],
   "source": [
    "im_arr = np.array(im)\n",
    "\n",
    "print(type(im_arr))\n",
    "print(im_arr)\n",
    "print(np.shape(im_arr))\n",
    "print(im_arr.dtype)\n"
   ]
  },
  {
   "cell_type": "code",
   "execution_count": 147,
   "metadata": {},
   "outputs": [
    {
     "name": "stdout",
     "output_type": "stream",
     "text": [
      "[[40 41 42 ...  3  4  3]\n",
      " [16 18 19 ...  3  3  2]\n",
      " [ 1  0  0 ...  3  3  3]\n",
      " ...\n",
      " [ 8  8  8 ...  7  7  7]\n",
      " [ 9  9  9 ...  7  7  7]\n",
      " [ 9  9  9 ...  7  7  8]]\n"
     ]
    }
   ],
   "source": [
    "#Taking transpose for ease in calculation\n",
    "trans_arr=np.transpose(im_arr)\n",
    "trans_arr = trans_arr.astype(np.int32)\n",
    "print(trans_arr)"
   ]
  },
  {
   "cell_type": "code",
   "execution_count": 148,
   "metadata": {},
   "outputs": [],
   "source": [
    "def col_mean(col_name):\n",
    "    Sum=0\n",
    "    for i in range(64):\n",
    "        Sum=Sum+trans_arr[col_name,i]\n",
    "    return Sum/64"
   ]
  },
  {
   "cell_type": "code",
   "execution_count": 149,
   "metadata": {},
   "outputs": [
    {
     "data": {
      "text/plain": [
       "22.546875"
      ]
     },
     "execution_count": 149,
     "metadata": {},
     "output_type": "execute_result"
    }
   ],
   "source": [
    "col_mean(0)"
   ]
  },
  {
   "cell_type": "code",
   "execution_count": 150,
   "metadata": {},
   "outputs": [
    {
     "data": {
      "text/plain": [
       "14.625"
      ]
     },
     "execution_count": 150,
     "metadata": {},
     "output_type": "execute_result"
    }
   ],
   "source": [
    "trans_arr[1,:].mean()"
   ]
  },
  {
   "cell_type": "code",
   "execution_count": 151,
   "metadata": {},
   "outputs": [],
   "source": [
    "def col_var(col_name):\n",
    "    Sum=0\n",
    "    mean_col=col_mean(col_name)\n",
    "    for i in range(64):\n",
    "        Sum=Sum+(trans_arr[col_name,i]-mean_col)**2\n",
    "    return Sum/64"
   ]
  },
  {
   "cell_type": "code",
   "execution_count": 152,
   "metadata": {},
   "outputs": [
    {
     "data": {
      "text/plain": [
       "47.765625"
      ]
     },
     "execution_count": 152,
     "metadata": {},
     "output_type": "execute_result"
    }
   ],
   "source": [
    "col_var(1)"
   ]
  },
  {
   "cell_type": "code",
   "execution_count": 153,
   "metadata": {},
   "outputs": [
    {
     "data": {
      "text/plain": [
       "47.765625"
      ]
     },
     "execution_count": 153,
     "metadata": {},
     "output_type": "execute_result"
    }
   ],
   "source": [
    "trans_arr[1,:].var()"
   ]
  },
  {
   "cell_type": "code",
   "execution_count": 154,
   "metadata": {},
   "outputs": [
    {
     "name": "stdout",
     "output_type": "stream",
     "text": [
      "[[2.25500e+01 1.69310e+02]\n",
      " [1.46200e+01 4.77700e+01]\n",
      " [1.44000e+00 2.09000e+00]\n",
      " [6.60000e-01 1.88000e+00]\n",
      " [3.10900e+01 7.43080e+02]\n",
      " [9.35600e+01 4.40250e+03]\n",
      " [9.88900e+01 4.64910e+03]\n",
      " [1.02800e+02 5.05007e+03]\n",
      " [1.06110e+02 5.37591e+03]\n",
      " [1.07860e+02 5.72446e+03]\n",
      " [1.11770e+02 6.10743e+03]\n",
      " [1.17910e+02 6.17646e+03]\n",
      " [1.20980e+02 6.31336e+03]\n",
      " [1.23250e+02 6.35644e+03]\n",
      " [1.26120e+02 6.61520e+03]\n",
      " [1.26360e+02 6.86061e+03]\n",
      " [1.29200e+02 7.12026e+03]\n",
      " [1.31480e+02 7.38103e+03]\n",
      " [1.34200e+02 7.65232e+03]\n",
      " [1.35730e+02 7.94213e+03]\n",
      " [1.38940e+02 8.12240e+03]\n",
      " [1.39360e+02 8.37332e+03]\n",
      " [1.41550e+02 8.47865e+03]\n",
      " [1.41730e+02 8.55688e+03]\n",
      " [1.42030e+02 8.79556e+03]\n",
      " [1.42020e+02 8.85723e+03]\n",
      " [1.41380e+02 8.72767e+03]\n",
      " [1.41270e+02 8.53813e+03]\n",
      " [1.43310e+02 8.71796e+03]\n",
      " [1.45590e+02 8.89637e+03]\n",
      " [1.43120e+02 8.63564e+03]\n",
      " [1.43200e+02 8.63713e+03]\n",
      " [1.41860e+02 8.57609e+03]\n",
      " [1.43750e+02 8.57322e+03]\n",
      " [1.39840e+02 8.70269e+03]\n",
      " [1.38700e+02 8.61246e+03]\n",
      " [1.42660e+02 8.47619e+03]\n",
      " [1.42780e+02 8.72855e+03]\n",
      " [1.41920e+02 8.44107e+03]\n",
      " [1.42890e+02 8.46391e+03]\n",
      " [1.42080e+02 8.43798e+03]\n",
      " [1.37780e+02 8.42792e+03]\n",
      " [1.36120e+02 7.81061e+03]\n",
      " [1.35270e+02 7.89141e+03]\n",
      " [1.35110e+02 7.68416e+03]\n",
      " [1.32300e+02 7.44246e+03]\n",
      " [1.28750e+02 7.11400e+03]\n",
      " [1.26750e+02 6.75050e+03]\n",
      " [1.25090e+02 6.42555e+03]\n",
      " [1.22000e+02 6.18156e+03]\n",
      " [1.17750e+02 5.71562e+03]\n",
      " [1.14700e+02 5.39746e+03]\n",
      " [1.13190e+02 5.33921e+03]\n",
      " [1.10420e+02 5.07649e+03]\n",
      " [1.09580e+02 4.96059e+03]\n",
      " [1.07340e+02 4.74591e+03]\n",
      " [1.03020e+02 4.36589e+03]\n",
      " [9.84700e+01 3.96378e+03]\n",
      " [9.70800e+01 3.82601e+03]\n",
      " [9.23300e+01 3.46216e+03]\n",
      " [8.99400e+01 3.28315e+03]\n",
      " [8.58000e+01 2.96851e+03]\n",
      " [8.18900e+01 2.71200e+03]\n",
      " [6.37200e+01 2.20920e+03]]\n",
      "64\n"
     ]
    }
   ],
   "source": [
    "col_parameters=[]\n",
    "#col_summary contains mu,sigma pairwise, for each column of original image\n",
    "for i in range(64):\n",
    "    mu=round(col_mean(i),2)\n",
    "    vari=round(col_var(i),2)\n",
    "    col_parameters.append(np.array([mu,vari]))\n",
    "col_parameters=np.array(col_parameters)\n",
    "print(col_parameters)\n",
    "print(len(col_parameters))"
   ]
  },
  {
   "cell_type": "code",
   "execution_count": 155,
   "metadata": {},
   "outputs": [],
   "source": [
    "def choose_col():\n",
    "    while True:\n",
    "        #Subtracting 1 to convert into 0:63\n",
    "        x=int(input(\"Enter column x:\"))-1\n",
    "        y=int(input(\"Enter column y:\"))-1\n",
    "        if (x>-1 and x<64) and (y>-1 and y<64):\n",
    "            return x,y\n",
    "        print(\"\\nChoose between 1 to 64. Try again!\")"
   ]
  },
  {
   "cell_type": "code",
   "execution_count": 156,
   "metadata": {},
   "outputs": [],
   "source": [
    "def dot():\n",
    "    x,y = choose_col()\n",
    "    vector1 = trans_arr[x,:]\n",
    "    vector2 = trans_arr[y,:]\n",
    "    vector3 = vector1 * vector2\n",
    "    vector3 = np.reshape(vector3, newshape=(64,1))\n",
    "    \n",
    "    SUM = 0\n",
    "    for i in range(0,64):\n",
    "        SUM = SUM + vector3[i,:]\n",
    "    return float(SUM)"
   ]
  },
  {
   "cell_type": "code",
   "execution_count": 157,
   "metadata": {},
   "outputs": [
    {
     "name": "stdout",
     "output_type": "stream",
     "text": [
      "Enter column x:1\n",
      "Enter column y:1\n"
     ]
    },
    {
     "data": {
      "text/plain": [
       "43371.0"
      ]
     },
     "execution_count": 157,
     "metadata": {},
     "output_type": "execute_result"
    }
   ],
   "source": [
    "dott = dot()\n",
    "dott"
   ]
  },
  {
   "cell_type": "code",
   "execution_count": 158,
   "metadata": {},
   "outputs": [],
   "source": [
    "def cov_method1():\n",
    "    x,y=choose_col()\n",
    "    mu_x=col_parameters[x,0]\n",
    "    mu_y=col_parameters[y,0]\n",
    "    v1=trans_arr[x,]-mu_x\n",
    "    v2=trans_arr[y,]-mu_y\n",
    "    v3=v1*v2\n",
    "    print(\"Covarience using method 1: \",np.average(v3))"
   ]
  },
  {
   "cell_type": "code",
   "execution_count": 159,
   "metadata": {},
   "outputs": [
    {
     "name": "stdout",
     "output_type": "stream",
     "text": [
      "Enter column x:1\n",
      "Enter column y:1\n",
      "Covarience using method 1:  169.3103125\n"
     ]
    }
   ],
   "source": [
    "cov_method1()"
   ]
  },
  {
   "cell_type": "code",
   "execution_count": 160,
   "metadata": {},
   "outputs": [
    {
     "data": {
      "text/plain": [
       "array([[171.99776786, 171.99776786],\n",
       "       [171.99776786, 171.99776786]])"
      ]
     },
     "execution_count": 160,
     "metadata": {},
     "output_type": "execute_result"
    }
   ],
   "source": [
    "np.cov(trans_arr[0,:],trans_arr[0,:])"
   ]
  },
  {
   "cell_type": "code",
   "execution_count": 163,
   "metadata": {},
   "outputs": [],
   "source": [
    "def cov_method2():\n",
    "    print(\"Which column's covarience do you want to calculate?\\nUsing method 2.\")\n",
    "    x,y=choose_col()\n",
    "    mu_x=col_parameters[x,0]\n",
    "    mu_y=col_parameters[y,0]\n",
    "    v=trans_arr[x,]*trans_arr[y,]\n",
    "    exp_xy=np.average(v)\n",
    "    cov=exp_xy-mu_x*mu_y\n",
    "    print(\"Covarience using method 2: \",cov)"
   ]
  },
  {
   "cell_type": "code",
   "execution_count": 164,
   "metadata": {},
   "outputs": [
    {
     "name": "stdout",
     "output_type": "stream",
     "text": [
      "Which column's covarience do you want to calculate?\n",
      "Using method 2.\n",
      "Enter column x:1\n",
      "Enter column y:1\n",
      "Covarience using method 2:  169.16937499999995\n"
     ]
    }
   ],
   "source": [
    "cov_method2()"
   ]
  },
  {
   "cell_type": "code",
   "execution_count": 84,
   "metadata": {},
   "outputs": [
    {
     "data": {
      "text/plain": [
       "22.546875"
      ]
     },
     "execution_count": 84,
     "metadata": {},
     "output_type": "execute_result"
    }
   ],
   "source": [
    "trans_arr[0,:].mean()"
   ]
  },
  {
   "cell_type": "code",
   "execution_count": null,
   "metadata": {},
   "outputs": [],
   "source": []
  }
 ],
 "metadata": {
  "kernelspec": {
   "display_name": "Python 3",
   "language": "python",
   "name": "python3"
  },
  "language_info": {
   "codemirror_mode": {
    "name": "ipython",
    "version": 3
   },
   "file_extension": ".py",
   "mimetype": "text/x-python",
   "name": "python",
   "nbconvert_exporter": "python",
   "pygments_lexer": "ipython3",
   "version": "3.7.7"
  }
 },
 "nbformat": 4,
 "nbformat_minor": 4
}
